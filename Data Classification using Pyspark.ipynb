{
 "cells": [
  {
   "cell_type": "code",
   "execution_count": 2,
   "id": "5f7bad95",
   "metadata": {},
   "outputs": [],
   "source": [
    "import findspark\n",
    "findspark.init()"
   ]
  },
  {
   "cell_type": "code",
   "execution_count": 3,
   "id": "757e56ba",
   "metadata": {},
   "outputs": [],
   "source": [
    "import pyspark\n",
    "from pyspark.sql import SparkSession\n",
    "\n",
    "spark = SparkSession.builder.appName('Data Classification').getOrCreate()"
   ]
  },
  {
   "cell_type": "markdown",
   "id": "aacada9a",
   "metadata": {},
   "source": [
    "## EDA"
   ]
  },
  {
   "cell_type": "code",
   "execution_count": 4,
   "id": "6248ab3a",
   "metadata": {},
   "outputs": [],
   "source": [
    "import pyspark.sql.functions as f"
   ]
  },
  {
   "cell_type": "markdown",
   "id": "b07713b8",
   "metadata": {},
   "source": [
    "### Importing Data"
   ]
  },
  {
   "cell_type": "code",
   "execution_count": 18,
   "id": "40a511f9",
   "metadata": {},
   "outputs": [
    {
     "data": {
      "text/html": [
       "<div>\n",
       "<style scoped>\n",
       "    .dataframe tbody tr th:only-of-type {\n",
       "        vertical-align: middle;\n",
       "    }\n",
       "\n",
       "    .dataframe tbody tr th {\n",
       "        vertical-align: top;\n",
       "    }\n",
       "\n",
       "    .dataframe thead th {\n",
       "        text-align: right;\n",
       "    }\n",
       "</style>\n",
       "<table border=\"1\" class=\"dataframe\">\n",
       "  <thead>\n",
       "    <tr style=\"text-align: right;\">\n",
       "      <th></th>\n",
       "      <th>age</th>\n",
       "      <th>workclass</th>\n",
       "      <th>fnlwgt</th>\n",
       "      <th>education</th>\n",
       "      <th>educational-num</th>\n",
       "      <th>marital-status</th>\n",
       "      <th>occupation</th>\n",
       "      <th>relationship</th>\n",
       "      <th>race</th>\n",
       "      <th>gender</th>\n",
       "      <th>capital-gain</th>\n",
       "      <th>capital-loss</th>\n",
       "      <th>hours-per-week</th>\n",
       "      <th>native-country</th>\n",
       "      <th>income_&gt;50K</th>\n",
       "    </tr>\n",
       "  </thead>\n",
       "  <tbody>\n",
       "    <tr>\n",
       "      <th>0</th>\n",
       "      <td>67</td>\n",
       "      <td>Private</td>\n",
       "      <td>366425</td>\n",
       "      <td>Doctorate</td>\n",
       "      <td>16</td>\n",
       "      <td>Divorced</td>\n",
       "      <td>Exec-managerial</td>\n",
       "      <td>Not-in-family</td>\n",
       "      <td>White</td>\n",
       "      <td>Male</td>\n",
       "      <td>99999</td>\n",
       "      <td>0</td>\n",
       "      <td>60</td>\n",
       "      <td>United-States</td>\n",
       "      <td>1</td>\n",
       "    </tr>\n",
       "    <tr>\n",
       "      <th>1</th>\n",
       "      <td>17</td>\n",
       "      <td>Private</td>\n",
       "      <td>244602</td>\n",
       "      <td>12th</td>\n",
       "      <td>8</td>\n",
       "      <td>Never-married</td>\n",
       "      <td>Other-service</td>\n",
       "      <td>Own-child</td>\n",
       "      <td>White</td>\n",
       "      <td>Male</td>\n",
       "      <td>0</td>\n",
       "      <td>0</td>\n",
       "      <td>15</td>\n",
       "      <td>United-States</td>\n",
       "      <td>0</td>\n",
       "    </tr>\n",
       "    <tr>\n",
       "      <th>2</th>\n",
       "      <td>31</td>\n",
       "      <td>Private</td>\n",
       "      <td>174201</td>\n",
       "      <td>Bachelors</td>\n",
       "      <td>13</td>\n",
       "      <td>Married-civ-spouse</td>\n",
       "      <td>Exec-managerial</td>\n",
       "      <td>Husband</td>\n",
       "      <td>White</td>\n",
       "      <td>Male</td>\n",
       "      <td>0</td>\n",
       "      <td>0</td>\n",
       "      <td>40</td>\n",
       "      <td>United-States</td>\n",
       "      <td>1</td>\n",
       "    </tr>\n",
       "    <tr>\n",
       "      <th>3</th>\n",
       "      <td>58</td>\n",
       "      <td>State-gov</td>\n",
       "      <td>110199</td>\n",
       "      <td>7th-8th</td>\n",
       "      <td>4</td>\n",
       "      <td>Married-civ-spouse</td>\n",
       "      <td>Transport-moving</td>\n",
       "      <td>Husband</td>\n",
       "      <td>White</td>\n",
       "      <td>Male</td>\n",
       "      <td>0</td>\n",
       "      <td>0</td>\n",
       "      <td>40</td>\n",
       "      <td>United-States</td>\n",
       "      <td>0</td>\n",
       "    </tr>\n",
       "    <tr>\n",
       "      <th>4</th>\n",
       "      <td>25</td>\n",
       "      <td>State-gov</td>\n",
       "      <td>149248</td>\n",
       "      <td>Some-college</td>\n",
       "      <td>10</td>\n",
       "      <td>Never-married</td>\n",
       "      <td>Other-service</td>\n",
       "      <td>Not-in-family</td>\n",
       "      <td>Black</td>\n",
       "      <td>Male</td>\n",
       "      <td>0</td>\n",
       "      <td>0</td>\n",
       "      <td>40</td>\n",
       "      <td>United-States</td>\n",
       "      <td>0</td>\n",
       "    </tr>\n",
       "  </tbody>\n",
       "</table>\n",
       "</div>"
      ],
      "text/plain": [
       "   age  workclass  fnlwgt     education  educational-num      marital-status   \n",
       "0   67    Private  366425     Doctorate               16            Divorced  \\\n",
       "1   17    Private  244602          12th                8       Never-married   \n",
       "2   31    Private  174201     Bachelors               13  Married-civ-spouse   \n",
       "3   58  State-gov  110199       7th-8th                4  Married-civ-spouse   \n",
       "4   25  State-gov  149248  Some-college               10       Never-married   \n",
       "\n",
       "         occupation   relationship   race gender  capital-gain  capital-loss   \n",
       "0   Exec-managerial  Not-in-family  White   Male         99999             0  \\\n",
       "1     Other-service      Own-child  White   Male             0             0   \n",
       "2   Exec-managerial        Husband  White   Male             0             0   \n",
       "3  Transport-moving        Husband  White   Male             0             0   \n",
       "4     Other-service  Not-in-family  Black   Male             0             0   \n",
       "\n",
       "   hours-per-week native-country  income_>50K  \n",
       "0              60  United-States            1  \n",
       "1              15  United-States            0  \n",
       "2              40  United-States            1  \n",
       "3              40  United-States            0  \n",
       "4              40  United-States            0  "
      ]
     },
     "execution_count": 18,
     "metadata": {},
     "output_type": "execute_result"
    }
   ],
   "source": [
    "df = spark.read.option(\"header\", True).option(\"inferSchema\", True).option(\"delimiter\",\",\").csv(\"train.csv\")\n",
    "df.limit(5).toPandas()"
   ]
  },
  {
   "cell_type": "code",
   "execution_count": 19,
   "id": "19d6e454",
   "metadata": {},
   "outputs": [],
   "source": [
    "df = df.withColumnRenamed(\"income_>50K\", \"target\")"
   ]
  },
  {
   "cell_type": "code",
   "execution_count": 20,
   "id": "86df7682",
   "metadata": {},
   "outputs": [
    {
     "name": "stdout",
     "output_type": "stream",
     "text": [
      "+------------+---------------+-----+\n",
      "|   education|educational-num|count|\n",
      "+------------+---------------+-----+\n",
      "|   Preschool|              1|   76|\n",
      "|     1st-4th|              2|  223|\n",
      "|     5th-6th|              3|  468|\n",
      "|     7th-8th|              4|  862|\n",
      "|         9th|              5|  684|\n",
      "|        10th|              6| 1250|\n",
      "|        11th|              7| 1647|\n",
      "|        12th|              8|  587|\n",
      "|     HS-grad|              9|14197|\n",
      "|Some-college|             10| 9790|\n",
      "|   Assoc-voc|             11| 1831|\n",
      "|  Assoc-acdm|             12| 1447|\n",
      "|   Bachelors|             13| 7219|\n",
      "|     Masters|             14| 2392|\n",
      "| Prof-school|             15|  748|\n",
      "|   Doctorate|             16|  536|\n",
      "+------------+---------------+-----+\n",
      "\n"
     ]
    }
   ],
   "source": [
    "df.groupBy(f.col(\"education\"),f.col(\"educational-num\")).count().orderBy(\"educational-num\").show()"
   ]
  },
  {
   "cell_type": "code",
   "execution_count": 21,
   "id": "273dac6f",
   "metadata": {},
   "outputs": [],
   "source": [
    "cols_to_drop = []\n",
    "cols_to_drop.append(\"education\")"
   ]
  },
  {
   "cell_type": "code",
   "execution_count": 22,
   "id": "d41b6066",
   "metadata": {},
   "outputs": [
    {
     "name": "stdout",
     "output_type": "stream",
     "text": [
      "+-------+------------------+------------------+------------------+------------------+-----------------+\n",
      "|summary|               age|   educational-num|      capital-gain|      capital-loss|   hours-per-week|\n",
      "+-------+------------------+------------------+------------------+------------------+-----------------+\n",
      "|  count|             43957|             43957|             43957|             43957|            43957|\n",
      "|   mean| 38.61714857701845|10.074117887935937|1093.5597970744136| 88.24649088882317|40.40769388265805|\n",
      "| stddev|13.734400969233434| 2.575091755705552| 7570.536063135791|404.58841023557716|12.40030286325264|\n",
      "|    min|                17|                 1|                 0|                 0|                1|\n",
      "|    25%|                28|                 9|                 0|                 0|               40|\n",
      "|    50%|                37|                10|                 0|                 0|               40|\n",
      "|    75%|                48|                12|                 0|                 0|               45|\n",
      "|    max|                90|                16|             99999|              4356|               99|\n",
      "+-------+------------------+------------------+------------------+------------------+-----------------+\n",
      "\n"
     ]
    }
   ],
   "source": [
    "df.select(\"age\",\"educational-num\", \"capital-gain\",\"capital-loss\",\"hours-per-week\").summary().show()"
   ]
  },
  {
   "cell_type": "code",
   "execution_count": 23,
   "id": "511e2e16",
   "metadata": {},
   "outputs": [
    {
     "data": {
      "text/plain": [
       "40330"
      ]
     },
     "execution_count": 23,
     "metadata": {},
     "output_type": "execute_result"
    }
   ],
   "source": [
    "df.filter(f.col(\"capital-gain\")==0).count()"
   ]
  },
  {
   "cell_type": "code",
   "execution_count": 24,
   "id": "699a7cf0",
   "metadata": {},
   "outputs": [
    {
     "data": {
      "text/plain": [
       "41884"
      ]
     },
     "execution_count": 24,
     "metadata": {},
     "output_type": "execute_result"
    }
   ],
   "source": [
    "df.filter(f.col(\"capital-loss\") ==0).count()"
   ]
  },
  {
   "cell_type": "code",
   "execution_count": 25,
   "id": "aac319b9",
   "metadata": {},
   "outputs": [],
   "source": [
    "cols_to_drop.append(\"capital-gain\")\n",
    "cols_to_drop.append(\"capital-loss\")"
   ]
  },
  {
   "cell_type": "code",
   "execution_count": 26,
   "id": "a120293d",
   "metadata": {},
   "outputs": [
    {
     "data": {
      "text/plain": [
       "26646"
      ]
     },
     "execution_count": 26,
     "metadata": {},
     "output_type": "execute_result"
    }
   ],
   "source": [
    "df.select(\"fnlwgt\").distinct().count()"
   ]
  },
  {
   "cell_type": "code",
   "execution_count": 27,
   "id": "3e19df6d",
   "metadata": {},
   "outputs": [],
   "source": [
    "cols_to_drop.append(\"fnlwgt\")"
   ]
  },
  {
   "cell_type": "markdown",
   "id": "0afd00f2",
   "metadata": {},
   "source": [
    "### Plotting categorical columns"
   ]
  },
  {
   "cell_type": "code",
   "execution_count": 29,
   "id": "2b9a67da",
   "metadata": {},
   "outputs": [],
   "source": [
    "import seaborn as sns\n",
    "import pandas as pd\n",
    "import numpy as np\n",
    "import matplotlib.pyplot as plt"
   ]
  },
  {
   "cell_type": "code",
   "execution_count": 30,
   "id": "419e87dc",
   "metadata": {},
   "outputs": [],
   "source": [
    "cat_cols = [\"workclass\", \"education\", \"marital-status\", \"occupation\", \"relationship\", \"race\", \"gender\", \"native-country\"]"
   ]
  },
  {
   "cell_type": "code",
   "execution_count": 31,
   "id": "2037bf49",
   "metadata": {},
   "outputs": [
    {
     "data": {
      "image/png": "[encoded data removed]",
      "text/plain": [
       "<Figure size 1500x1500 with 9 Axes>"
      ]
     },
     "metadata": {},
     "output_type": "display_data"
    }
   ],
   "source": [
    "df1 = df.toPandas()\n",
    "fig, ax = plt.subplots(3,3,figsize= (15,15))\n",
    "for i, subplots in zip(cat_cols, ax.flatten()):\n",
    "    sns.countplot(data = df1, x=df1[i], hue=\"target\", ax = subplots, palette=\"BuPu\")\n",
    "    subplots.set_xticklabels(subplots.get_xticks(), rotation = 90)\n",
    "plt.show()"
   ]
  },
  {
   "cell_type": "code",
   "execution_count": 17,
   "id": "64c5c31f",
   "metadata": {},
   "outputs": [
    {
     "name": "stdout",
     "output_type": "stream",
     "text": [
      "+------------------+-----+\n",
      "|    native-country|count|\n",
      "+------------------+-----+\n",
      "|     United-States|39429|\n",
      "|            Mexico|  880|\n",
      "|              null|  763|\n",
      "|       Philippines|  273|\n",
      "|           Germany|  188|\n",
      "|       Puerto-Rico|  167|\n",
      "|            Canada|  158|\n",
      "|       El-Salvador|  145|\n",
      "|             India|  134|\n",
      "|              Cuba|  124|\n",
      "|             China|  113|\n",
      "|           England|  109|\n",
      "|             South|  105|\n",
      "|           Jamaica|   97|\n",
      "|Dominican-Republic|   97|\n",
      "|             Italy|   94|\n",
      "|             Japan|   83|\n",
      "|         Guatemala|   79|\n",
      "|           Vietnam|   77|\n",
      "|          Columbia|   75|\n",
      "+------------------+-----+\n",
      "only showing top 20 rows\n",
      "\n"
     ]
    }
   ],
   "source": [
    "df.groupBy(\"native-country\").count().sort(f.col(\"count\").desc()).show()"
   ]
  },
  {
   "cell_type": "code",
   "execution_count": 18,
   "id": "8290e86d",
   "metadata": {},
   "outputs": [
    {
     "name": "stdout",
     "output_type": "stream",
     "text": [
      "+------------------+-----+\n",
      "|              race|count|\n",
      "+------------------+-----+\n",
      "|             White|37572|\n",
      "|             Black| 4218|\n",
      "|Asian-Pac-Islander| 1373|\n",
      "|Amer-Indian-Eskimo|  421|\n",
      "|             Other|  373|\n",
      "+------------------+-----+\n",
      "\n"
     ]
    }
   ],
   "source": [
    "df.groupBy(\"race\").count().sort(f.col(\"count\").desc()).show()"
   ]
  },
  {
   "cell_type": "markdown",
   "id": "38b7fa97",
   "metadata": {},
   "source": [
    "### Plotting Numerical Columns"
   ]
  },
  {
   "cell_type": "code",
   "execution_count": 19,
   "id": "5b2f4c82",
   "metadata": {},
   "outputs": [
    {
     "data": {
      "image/png": "[encoded data removed]",
      "text/plain": [
       "<Figure size 1000x300 with 1 Axes>"
      ]
     },
     "metadata": {},
     "output_type": "display_data"
    }
   ],
   "source": [
    "fig, ax = plt.subplots(figsize=(10,3))\n",
    "sns.histplot(data=df1, x='age', hue='target')\n",
    "plt.show()"
   ]
  },
  {
   "cell_type": "code",
   "execution_count": 20,
   "id": "cbfc6ef6",
   "metadata": {},
   "outputs": [
    {
     "data": {
      "image/png": "[encoded data removed]",
      "text/plain": [
       "<Figure size 1000x300 with 1 Axes>"
      ]
     },
     "metadata": {},
     "output_type": "display_data"
    }
   ],
   "source": [
    "fig, ax = plt.subplots(figsize=(10,3))\n",
    "sns.histplot(data=df1, x='educational-num', hue='target')\n",
    "plt.show()"
   ]
  },
  {
   "cell_type": "code",
   "execution_count": 21,
   "id": "563702da",
   "metadata": {},
   "outputs": [
    {
     "data": {
      "image/png": "[encoded data removed]",
      "text/plain": [
       "<Figure size 1200x400 with 1 Axes>"
      ]
     },
     "metadata": {},
     "output_type": "display_data"
    }
   ],
   "source": [
    "fig, ax = plt.subplots(figsize=(12,4))\n",
    "sns.histplot(data=df1, x='hours-per-week', hue='target')\n",
    "plt.show()"
   ]
  },
  {
   "cell_type": "code",
   "execution_count": 32,
   "id": "5b57e638",
   "metadata": {},
   "outputs": [],
   "source": [
    "for i in cols_to_drop:\n",
    "    del df1[i]"
   ]
  },
  {
   "cell_type": "code",
   "execution_count": 33,
   "id": "72230ca7",
   "metadata": {},
   "outputs": [],
   "source": [
    "df = df.drop(*cols_to_drop)\n",
    "cat_cols.remove(\"education\")"
   ]
  },
  {
   "cell_type": "code",
   "execution_count": 34,
   "id": "4a9f8a93",
   "metadata": {},
   "outputs": [
    {
     "data": {
      "text/html": [
       "<div>\n",
       "<style scoped>\n",
       "    .dataframe tbody tr th:only-of-type {\n",
       "        vertical-align: middle;\n",
       "    }\n",
       "\n",
       "    .dataframe tbody tr th {\n",
       "        vertical-align: top;\n",
       "    }\n",
       "\n",
       "    .dataframe thead th {\n",
       "        text-align: right;\n",
       "    }\n",
       "</style>\n",
       "<table border=\"1\" class=\"dataframe\">\n",
       "  <thead>\n",
       "    <tr style=\"text-align: right;\">\n",
       "      <th></th>\n",
       "      <th>age</th>\n",
       "      <th>workclass</th>\n",
       "      <th>educational-num</th>\n",
       "      <th>marital-status</th>\n",
       "      <th>occupation</th>\n",
       "      <th>relationship</th>\n",
       "      <th>race</th>\n",
       "      <th>gender</th>\n",
       "      <th>hours-per-week</th>\n",
       "      <th>native-country</th>\n",
       "      <th>target</th>\n",
       "    </tr>\n",
       "  </thead>\n",
       "  <tbody>\n",
       "    <tr>\n",
       "      <th>0</th>\n",
       "      <td>67</td>\n",
       "      <td>Private</td>\n",
       "      <td>16</td>\n",
       "      <td>Divorced</td>\n",
       "      <td>Exec-managerial</td>\n",
       "      <td>Not-in-family</td>\n",
       "      <td>White</td>\n",
       "      <td>Male</td>\n",
       "      <td>60</td>\n",
       "      <td>United-States</td>\n",
       "      <td>1</td>\n",
       "    </tr>\n",
       "    <tr>\n",
       "      <th>1</th>\n",
       "      <td>17</td>\n",
       "      <td>Private</td>\n",
       "      <td>8</td>\n",
       "      <td>Never-married</td>\n",
       "      <td>Other-service</td>\n",
       "      <td>Own-child</td>\n",
       "      <td>White</td>\n",
       "      <td>Male</td>\n",
       "      <td>15</td>\n",
       "      <td>United-States</td>\n",
       "      <td>0</td>\n",
       "    </tr>\n",
       "    <tr>\n",
       "      <th>2</th>\n",
       "      <td>31</td>\n",
       "      <td>Private</td>\n",
       "      <td>13</td>\n",
       "      <td>Married-civ-spouse</td>\n",
       "      <td>Exec-managerial</td>\n",
       "      <td>Husband</td>\n",
       "      <td>White</td>\n",
       "      <td>Male</td>\n",
       "      <td>40</td>\n",
       "      <td>United-States</td>\n",
       "      <td>1</td>\n",
       "    </tr>\n",
       "    <tr>\n",
       "      <th>3</th>\n",
       "      <td>58</td>\n",
       "      <td>State-gov</td>\n",
       "      <td>4</td>\n",
       "      <td>Married-civ-spouse</td>\n",
       "      <td>Transport-moving</td>\n",
       "      <td>Husband</td>\n",
       "      <td>White</td>\n",
       "      <td>Male</td>\n",
       "      <td>40</td>\n",
       "      <td>United-States</td>\n",
       "      <td>0</td>\n",
       "    </tr>\n",
       "    <tr>\n",
       "      <th>4</th>\n",
       "      <td>25</td>\n",
       "      <td>State-gov</td>\n",
       "      <td>10</td>\n",
       "      <td>Never-married</td>\n",
       "      <td>Other-service</td>\n",
       "      <td>Not-in-family</td>\n",
       "      <td>Black</td>\n",
       "      <td>Male</td>\n",
       "      <td>40</td>\n",
       "      <td>United-States</td>\n",
       "      <td>0</td>\n",
       "    </tr>\n",
       "  </tbody>\n",
       "</table>\n",
       "</div>"
      ],
      "text/plain": [
       "   age  workclass  educational-num      marital-status        occupation   \n",
       "0   67    Private               16            Divorced   Exec-managerial  \\\n",
       "1   17    Private                8       Never-married     Other-service   \n",
       "2   31    Private               13  Married-civ-spouse   Exec-managerial   \n",
       "3   58  State-gov                4  Married-civ-spouse  Transport-moving   \n",
       "4   25  State-gov               10       Never-married     Other-service   \n",
       "\n",
       "    relationship   race gender  hours-per-week native-country  target  \n",
       "0  Not-in-family  White   Male              60  United-States       1  \n",
       "1      Own-child  White   Male              15  United-States       0  \n",
       "2        Husband  White   Male              40  United-States       1  \n",
       "3        Husband  White   Male              40  United-States       0  \n",
       "4  Not-in-family  Black   Male              40  United-States       0  "
      ]
     },
     "execution_count": 34,
     "metadata": {},
     "output_type": "execute_result"
    }
   ],
   "source": [
    "df1.head()"
   ]
  },
  {
   "cell_type": "markdown",
   "id": "aad1b261",
   "metadata": {},
   "source": [
    "### Correlation Check"
   ]
  },
  {
   "cell_type": "code",
   "execution_count": 35,
   "id": "c5271a5d",
   "metadata": {},
   "outputs": [
    {
     "data": {
      "text/html": [
       "<style type=\"text/css\">\n",
       "#T_1ed8f_row0_col0, #T_1ed8f_row1_col1, #T_1ed8f_row2_col2 {\n",
       "  background-color: #b40426;\n",
       "  color: #f1f1f1;\n",
       "}\n",
       "#T_1ed8f_row0_col1, #T_1ed8f_row1_col0 {\n",
       "  background-color: #e1dad6;\n",
       "  color: #000000;\n",
       "}\n",
       "#T_1ed8f_row0_col2, #T_1ed8f_row2_col0 {\n",
       "  background-color: #e6d7cf;\n",
       "  color: #000000;\n",
       "}\n",
       "#T_1ed8f_row1_col2, #T_1ed8f_row2_col1 {\n",
       "  background-color: #edd1c2;\n",
       "  color: #000000;\n",
       "}\n",
       "</style>\n",
       "<table id=\"T_1ed8f\">\n",
       "  <thead>\n",
       "    <tr>\n",
       "      <th class=\"blank level0\" >&nbsp;</th>\n",
       "      <th id=\"T_1ed8f_level0_col0\" class=\"col_heading level0 col0\" >age</th>\n",
       "      <th id=\"T_1ed8f_level0_col1\" class=\"col_heading level0 col1\" >educational-num</th>\n",
       "      <th id=\"T_1ed8f_level0_col2\" class=\"col_heading level0 col2\" >hours-per-week</th>\n",
       "    </tr>\n",
       "  </thead>\n",
       "  <tbody>\n",
       "    <tr>\n",
       "      <th id=\"T_1ed8f_level0_row0\" class=\"row_heading level0 row0\" >age</th>\n",
       "      <td id=\"T_1ed8f_row0_col0\" class=\"data row0 col0\" >1.000000</td>\n",
       "      <td id=\"T_1ed8f_row0_col1\" class=\"data row0 col1\" >0.034711</td>\n",
       "      <td id=\"T_1ed8f_row0_col2\" class=\"data row0 col2\" >0.070949</td>\n",
       "    </tr>\n",
       "    <tr>\n",
       "      <th id=\"T_1ed8f_level0_row1\" class=\"row_heading level0 row1\" >educational-num</th>\n",
       "      <td id=\"T_1ed8f_row1_col0\" class=\"data row1 col0\" >0.034711</td>\n",
       "      <td id=\"T_1ed8f_row1_col1\" class=\"data row1 col1\" >1.000000</td>\n",
       "      <td id=\"T_1ed8f_row1_col2\" class=\"data row1 col2\" >0.145670</td>\n",
       "    </tr>\n",
       "    <tr>\n",
       "      <th id=\"T_1ed8f_level0_row2\" class=\"row_heading level0 row2\" >hours-per-week</th>\n",
       "      <td id=\"T_1ed8f_row2_col0\" class=\"data row2 col0\" >0.070949</td>\n",
       "      <td id=\"T_1ed8f_row2_col1\" class=\"data row2 col1\" >0.145670</td>\n",
       "      <td id=\"T_1ed8f_row2_col2\" class=\"data row2 col2\" >1.000000</td>\n",
       "    </tr>\n",
       "  </tbody>\n",
       "</table>\n"
      ],
      "text/plain": [
       "<pandas.io.formats.style.Styler at 0x1c27756a7d0>"
      ]
     },
     "execution_count": 35,
     "metadata": {},
     "output_type": "execute_result"
    }
   ],
   "source": [
    "df_num = df.select(\"age\", \"educational-num\", \"hours-per-week\").toPandas()\n",
    "corr_mat = df_num.corr().abs()\n",
    "corr_mat.style.background_gradient(cmap=\"coolwarm\", vmin=-1, vmax=1)"
   ]
  },
  {
   "cell_type": "markdown",
   "id": "6192f513",
   "metadata": {},
   "source": [
    "### Variance Check"
   ]
  },
  {
   "cell_type": "code",
   "execution_count": 36,
   "id": "d5eae4fa",
   "metadata": {},
   "outputs": [
    {
     "data": {
      "text/html": [
       "<style>#sk-container-id-1 {color: black;background-color: white;}#sk-container-id-1 pre{padding: 0;}#sk-container-id-1 div.sk-toggleable {background-color: white;}#sk-container-id-1 label.sk-toggleable__label {cursor: pointer;display: block;width: 100%;margin-bottom: 0;padding: 0.3em;box-sizing: border-box;text-align: center;}#sk-container-id-1 label.sk-toggleable__label-arrow:before {content: \"▸\";float: left;margin-right: 0.25em;color: #696969;}#sk-container-id-1 label.sk-toggleable__label-arrow:hover:before {color: black;}#sk-container-id-1 div.sk-estimator:hover label.sk-toggleable__label-arrow:before {color: black;}#sk-container-id-1 div.sk-toggleable__content {max-height: 0;max-width: 0;overflow: hidden;text-align: left;background-color: #f0f8ff;}#sk-container-id-1 div.sk-toggleable__content pre {margin: 0.2em;color: black;border-radius: 0.25em;background-color: #f0f8ff;}#sk-container-id-1 input.sk-toggleable__control:checked~div.sk-toggleable__content {max-height: 200px;max-width: 100%;overflow: auto;}#sk-container-id-1 input.sk-toggleable__control:checked~label.sk-toggleable__label-arrow:before {content: \"▾\";}#sk-container-id-1 div.sk-estimator input.sk-toggleable__control:checked~label.sk-toggleable__label {background-color: #d4ebff;}#sk-container-id-1 div.sk-label input.sk-toggleable__control:checked~label.sk-toggleable__label {background-color: #d4ebff;}#sk-container-id-1 input.sk-hidden--visually {border: 0;clip: rect(1px 1px 1px 1px);clip: rect(1px, 1px, 1px, 1px);height: 1px;margin: -1px;overflow: hidden;padding: 0;position: absolute;width: 1px;}#sk-container-id-1 div.sk-estimator {font-family: monospace;background-color: #f0f8ff;border: 1px dotted black;border-radius: 0.25em;box-sizing: border-box;margin-bottom: 0.5em;}#sk-container-id-1 div.sk-estimator:hover {background-color: #d4ebff;}#sk-container-id-1 div.sk-parallel-item::after {content: \"\";width: 100%;border-bottom: 1px solid gray;flex-grow: 1;}#sk-container-id-1 div.sk-label:hover label.sk-toggleable__label {background-color: #d4ebff;}#sk-container-id-1 div.sk-serial::before {content: \"\";position: absolute;border-left: 1px solid gray;box-sizing: border-box;top: 0;bottom: 0;left: 50%;z-index: 0;}#sk-container-id-1 div.sk-serial {display: flex;flex-direction: column;align-items: center;background-color: white;padding-right: 0.2em;padding-left: 0.2em;position: relative;}#sk-container-id-1 div.sk-item {position: relative;z-index: 1;}#sk-container-id-1 div.sk-parallel {display: flex;align-items: stretch;justify-content: center;background-color: white;position: relative;}#sk-container-id-1 div.sk-item::before, #sk-container-id-1 div.sk-parallel-item::before {content: \"\";position: absolute;border-left: 1px solid gray;box-sizing: border-box;top: 0;bottom: 0;left: 50%;z-index: -1;}#sk-container-id-1 div.sk-parallel-item {display: flex;flex-direction: column;z-index: 1;position: relative;background-color: white;}#sk-container-id-1 div.sk-parallel-item:first-child::after {align-self: flex-end;width: 50%;}#sk-container-id-1 div.sk-parallel-item:last-child::after {align-self: flex-start;width: 50%;}#sk-container-id-1 div.sk-parallel-item:only-child::after {width: 0;}#sk-container-id-1 div.sk-dashed-wrapped {border: 1px dashed gray;margin: 0 0.4em 0.5em 0.4em;box-sizing: border-box;padding-bottom: 0.4em;background-color: white;}#sk-container-id-1 div.sk-label label {font-family: monospace;font-weight: bold;display: inline-block;line-height: 1.2em;}#sk-container-id-1 div.sk-label-container {text-align: center;}#sk-container-id-1 div.sk-container {/* jupyter's `normalize.less` sets `[hidden] { display: none; }` but bootstrap.min.css set `[hidden] { display: none !important; }` so we also need the `!important` here to be able to override the default hidden behavior on the sphinx rendered scikit-learn.org. See: https://github.com/scikit-learn/scikit-learn/issues/21755 */display: inline-block !important;position: relative;}#sk-container-id-1 div.sk-text-repr-fallback {display: none;}</style><div id=\"sk-container-id-1\" class=\"sk-top-container\"><div class=\"sk-text-repr-fallback\"><pre>VarianceThreshold(threshold=0.05)</pre><b>In a Jupyter environment, please rerun this cell to show the HTML representation or trust the notebook. <br />On GitHub, the HTML representation is unable to render, please try loading this page with nbviewer.org.</b></div><div class=\"sk-container\" hidden><div class=\"sk-item\"><div class=\"sk-estimator sk-toggleable\"><input class=\"sk-toggleable__control sk-hidden--visually\" id=\"sk-estimator-id-1\" type=\"checkbox\" checked><label for=\"sk-estimator-id-1\" class=\"sk-toggleable__label sk-toggleable__label-arrow\">VarianceThreshold</label><div class=\"sk-toggleable__content\"><pre>VarianceThreshold(threshold=0.05)</pre></div></div></div></div></div>"
      ],
      "text/plain": [
       "VarianceThreshold(threshold=0.05)"
      ]
     },
     "execution_count": 36,
     "metadata": {},
     "output_type": "execute_result"
    }
   ],
   "source": [
    "from sklearn.feature_selection import VarianceThreshold\n",
    "threshold = 0.05\n",
    "varThreshold = VarianceThreshold(threshold=threshold)\n",
    "varThreshold.fit(df_num)"
   ]
  },
  {
   "cell_type": "code",
   "execution_count": 37,
   "id": "dfa91edb",
   "metadata": {},
   "outputs": [
    {
     "data": {
      "text/plain": [
       "[]"
      ]
     },
     "execution_count": 37,
     "metadata": {},
     "output_type": "execute_result"
    }
   ],
   "source": [
    "low_vars = [column for column in df_num.columns if column not in df_num.columns[varThreshold.get_support()]]\n",
    "low_vars"
   ]
  },
  {
   "cell_type": "markdown",
   "id": "9b27eba4",
   "metadata": {},
   "source": [
    "### Imputing missing data"
   ]
  },
  {
   "cell_type": "code",
   "execution_count": 38,
   "id": "190a60b5",
   "metadata": {},
   "outputs": [
    {
     "name": "stdout",
     "output_type": "stream",
     "text": [
      "+---+---------+---------------+--------------+----------+------------+----+------+--------------+--------------+------+\n",
      "|age|workclass|educational-num|marital-status|occupation|relationship|race|gender|hours-per-week|native-country|target|\n",
      "+---+---------+---------------+--------------+----------+------------+----+------+--------------+--------------+------+\n",
      "|  0|     2498|              0|             0|      2506|           0|   0|     0|             0|           763|     0|\n",
      "+---+---------+---------------+--------------+----------+------------+----+------+--------------+--------------+------+\n",
      "\n"
     ]
    }
   ],
   "source": [
    "df.select([f.count(f.when(f.col(c).contains('None') | f.col(c).contains('NULL') | (f.col(c) == \"\") | f.col(c).isNull() | f.isnan(c), c)).alias(c) for c in df.columns]).show()"
   ]
  },
  {
   "cell_type": "code",
   "execution_count": 39,
   "id": "ec5f70ef",
   "metadata": {},
   "outputs": [],
   "source": [
    "# Imputing the missing data in categorical columns using \"mode\" method\n",
    "\n",
    "work_mode = df.groupBy(\"workclass\").count().orderBy(f.col(\"count\").desc()).first()[0]\n",
    "occu_mode = df.groupBy(\"occupation\").count().orderBy(f.col(\"count\").desc()).first()[0]\n",
    "country_mode = df.groupBy(\"native-country\").count().orderBy(f.col(\"count\").desc()).first()[0]"
   ]
  },
  {
   "cell_type": "code",
   "execution_count": 40,
   "id": "265a7502",
   "metadata": {},
   "outputs": [],
   "source": [
    "df = df.fillna({\"workclass\": work_mode, \"occupation\": occu_mode, \"native-country\":country_mode})"
   ]
  },
  {
   "cell_type": "markdown",
   "id": "e49ea850",
   "metadata": {},
   "source": [
    "### Balancing data by targets"
   ]
  },
  {
   "cell_type": "code",
   "execution_count": 41,
   "id": "83322072",
   "metadata": {},
   "outputs": [
    {
     "name": "stdout",
     "output_type": "stream",
     "text": [
      "+------+-----+\n",
      "|target|count|\n",
      "+------+-----+\n",
      "|     1|10518|\n",
      "|     0|33439|\n",
      "+------+-----+\n",
      "\n"
     ]
    }
   ],
   "source": [
    "df.groupBy(\"target\").count().show()"
   ]
  },
  {
   "cell_type": "code",
   "execution_count": 42,
   "id": "b31d2c54",
   "metadata": {},
   "outputs": [
    {
     "name": "stdout",
     "output_type": "stream",
     "text": [
      "+------+-----+\n",
      "|target|count|\n",
      "+------+-----+\n",
      "|     1|10518|\n",
      "|     0|10564|\n",
      "+------+-----+\n",
      "\n"
     ]
    }
   ],
   "source": [
    "df = df.sampleBy(f.col(\"target\"), fractions = {0:0.315 , 1:1}, seed=0)\n",
    "\n",
    "df.groupBy(\"target\").count().show()"
   ]
  },
  {
   "cell_type": "markdown",
   "id": "cfa03e77",
   "metadata": {},
   "source": [
    "### String Indexing Categorical Columns"
   ]
  },
  {
   "cell_type": "code",
   "execution_count": 71,
   "id": "64ff243f",
   "metadata": {},
   "outputs": [],
   "source": [
    "from pyspark.ml.feature import StringIndexer, OneHotEncoder, VectorAssembler\n",
    "from pyspark.ml.linalg import Vectors\n",
    "from pyspark.ml import Pipeline\n",
    "\n",
    "num_cols = [i for i in df1.columns if i not in cat_cols]\n",
    "num_cols.remove(\"target\")\n",
    "ind_op_cols = [i+\"_ind\" for i in cat_cols]\n",
    "ohe_op_cols = [i+\"_ohe\" for i in cat_cols]"
   ]
  },
  {
   "cell_type": "code",
   "execution_count": 84,
   "id": "9e707d2b",
   "metadata": {},
   "outputs": [],
   "source": [
    "indexer = StringIndexer(inputCols= cat_cols, outputCols=ind_op_cols)\n",
    "#inputs = indexer.getOutputCols()\n",
    "encoder = OneHotEncoder(inputCols = ind_op_cols, outputCols = ohe_op_cols, dropLast = False)\n",
    "assembler = VectorAssembler(inputCols = ohe_op_cols+num_cols, outputCol=\"features\")\n",
    "ohe_pipe = Pipeline(stages=[indexer, encoder, assembler])\n",
    "pipe_model = ohe_pipe.fit(df)\n",
    "idf = pipe_model.transform(df)\n"
   ]
  },
  {
   "cell_type": "code",
   "execution_count": 85,
   "id": "c6d4105e",
   "metadata": {},
   "outputs": [],
   "source": [
    "training_data = idf.select(\"features\", \"target\")"
   ]
  },
  {
   "cell_type": "code",
   "execution_count": 83,
   "id": "2eea7cb2",
   "metadata": {},
   "outputs": [
    {
     "name": "stdout",
     "output_type": "stream",
     "text": [
      "+--------------------------------------------------------------------------------+------+\n",
      "|features                                                                        |target|\n",
      "+--------------------------------------------------------------------------------+------+\n",
      "|(85,[0,10,15,30,35,40,42,82,83,84],[1.0,1.0,1.0,1.0,1.0,1.0,1.0,67.0,16.0,60.0])|1     |\n",
      "|(85,[0,8,15,29,35,40,42,82,83,84],[1.0,1.0,1.0,1.0,1.0,1.0,1.0,31.0,13.0,40.0]) |1     |\n",
      "|(85,[4,9,19,31,35,40,42,82,83,84],[1.0,1.0,1.0,1.0,1.0,1.0,1.0,59.0,9.0,40.0])  |0     |\n",
      "|(85,[0,8,21,33,35,41,42,82,83,84],[1.0,1.0,1.0,1.0,1.0,1.0,1.0,70.0,5.0,40.0])  |0     |\n",
      "|(85,[0,8,15,29,35,40,42,82,83,84],[1.0,1.0,1.0,1.0,1.0,1.0,1.0,28.0,9.0,45.0])  |1     |\n",
      "|(85,[0,9,15,31,35,40,42,82,83,84],[1.0,1.0,1.0,1.0,1.0,1.0,1.0,21.0,10.0,25.0]) |0     |\n",
      "|(85,[0,11,26,30,35,41,42,82,83,84],[1.0,1.0,1.0,1.0,1.0,1.0,1.0,76.0,4.0,12.0]) |0     |\n",
      "|(85,[0,8,22,29,35,40,42,82,83,84],[1.0,1.0,1.0,1.0,1.0,1.0,1.0,30.0,6.0,55.0])  |0     |\n",
      "|(85,[5,8,15,29,35,40,42,82,83,84],[1.0,1.0,1.0,1.0,1.0,1.0,1.0,54.0,9.0,40.0])  |1     |\n",
      "|(85,[0,8,17,29,35,40,42,82,83,84],[1.0,1.0,1.0,1.0,1.0,1.0,1.0,44.0,16.0,50.0]) |1     |\n",
      "|(85,[1,8,16,29,35,40,42,82,83,84],[1.0,1.0,1.0,1.0,1.0,1.0,1.0,37.0,9.0,40.0])  |0     |\n",
      "|(85,[0,8,24,29,35,40,52,82,83,84],[1.0,1.0,1.0,1.0,1.0,1.0,1.0,59.0,13.0,40.0]) |1     |\n",
      "|(85,[1,8,16,29,35,40,42,82,83,84],[1.0,1.0,1.0,1.0,1.0,1.0,1.0,27.0,7.0,40.0])  |0     |\n",
      "|(85,[0,8,17,29,35,40,42,82,83,84],[1.0,1.0,1.0,1.0,1.0,1.0,1.0,49.0,10.0,44.0]) |1     |\n",
      "|(85,[0,8,17,29,35,40,42,82,83,84],[1.0,1.0,1.0,1.0,1.0,1.0,1.0,36.0,14.0,60.0]) |1     |\n",
      "|(85,[3,8,15,29,35,40,42,82,83,84],[1.0,1.0,1.0,1.0,1.0,1.0,1.0,54.0,13.0,40.0]) |1     |\n",
      "|(85,[0,8,15,29,35,40,42,82,83,84],[1.0,1.0,1.0,1.0,1.0,1.0,1.0,71.0,9.0,45.0])  |1     |\n",
      "|(85,[1,11,19,34,35,41,42,82,83,84],[1.0,1.0,1.0,1.0,1.0,1.0,1.0,62.0,9.0,30.0]) |0     |\n",
      "|(85,[1,9,16,34,35,40,42,82,83,84],[1.0,1.0,1.0,1.0,1.0,1.0,1.0,35.0,9.0,60.0])  |0     |\n",
      "|(85,[0,9,15,31,36,41,42,82,83,84],[1.0,1.0,1.0,1.0,1.0,1.0,1.0,30.0,10.0,40.0]) |0     |\n",
      "+--------------------------------------------------------------------------------+------+\n",
      "only showing top 20 rows\n",
      "\n"
     ]
    }
   ],
   "source": [
    "training_data.show(truncate=False)"
   ]
  },
  {
   "cell_type": "markdown",
   "id": "bfb12898",
   "metadata": {},
   "source": [
    "## Model Training"
   ]
  },
  {
   "cell_type": "code",
   "execution_count": 47,
   "id": "94a0b628",
   "metadata": {},
   "outputs": [],
   "source": [
    "training_data = training_data.withColumnRenamed(\"target\", \"label\")"
   ]
  },
  {
   "cell_type": "code",
   "execution_count": 48,
   "id": "a06fe718",
   "metadata": {},
   "outputs": [
    {
     "name": "stdout",
     "output_type": "stream",
     "text": [
      "There are 14765 Training samples and 6317 Test samples.\n"
     ]
    }
   ],
   "source": [
    "train, test = training_data.randomSplit([0.7,0.3], seed=100)\n",
    "print(\"There are %d Training samples and %d Test samples.\"%(train.count(), test.count()))"
   ]
  },
  {
   "cell_type": "markdown",
   "id": "9c03f71a",
   "metadata": {},
   "source": [
    "### Logistic Regression"
   ]
  },
  {
   "cell_type": "code",
   "execution_count": 56,
   "id": "cf39ddda",
   "metadata": {},
   "outputs": [],
   "source": [
    "from pyspark.ml.classification import LogisticRegression\n"
   ]
  },
  {
   "cell_type": "code",
   "execution_count": 58,
   "id": "061edc5e",
   "metadata": {},
   "outputs": [],
   "source": [
    "lr = LogisticRegression(featuresCol='features', labelCol='label')\n",
    "lr_model = lr.fit(train)"
   ]
  },
  {
   "cell_type": "code",
   "execution_count": 59,
   "id": "b6a67005",
   "metadata": {},
   "outputs": [
    {
     "name": "stdout",
     "output_type": "stream",
     "text": [
      "+----------------------------------------+----------+-----+\n",
      "|probability                             |prediction|label|\n",
      "+----------------------------------------+----------+-----+\n",
      "|[0.1574652611441756,0.8425347388558244] |1.0       |0    |\n",
      "|[0.09728479060324201,0.902715209396758] |1.0       |1    |\n",
      "|[0.5409203871366638,0.4590796128633362] |0.0       |0    |\n",
      "|[0.34432438488523087,0.6556756151147691]|1.0       |0    |\n",
      "|[0.31394917728040406,0.6860508227195959]|1.0       |1    |\n",
      "|[0.09446103495803317,0.9055389650419668]|1.0       |0    |\n",
      "|[0.37776567150815166,0.6222343284918483]|1.0       |0    |\n",
      "|[0.14678181328974596,0.8532181867102541]|1.0       |1    |\n",
      "|[0.07794948225156616,0.9220505177484338]|1.0       |1    |\n",
      "|[0.329767050063766,0.6702329499362341]  |1.0       |1    |\n",
      "|[0.29175894326236107,0.7082410567376389]|1.0       |0    |\n",
      "|[0.23109954951913705,0.768900450480863] |1.0       |1    |\n",
      "|[0.14274856003526376,0.8572514399647362]|1.0       |0    |\n",
      "|[0.14274856003526376,0.8572514399647362]|1.0       |1    |\n",
      "|[0.14274856003526376,0.8572514399647362]|1.0       |1    |\n",
      "|[0.10452930820533352,0.8954706917946664]|1.0       |1    |\n",
      "|[0.22536138145101114,0.7746386185489889]|1.0       |1    |\n",
      "|[0.13880810212982456,0.8611918978701755]|1.0       |1    |\n",
      "|[0.13880810212982456,0.8611918978701755]|1.0       |1    |\n",
      "|[0.10522406636848262,0.8947759336315174]|1.0       |1    |\n",
      "+----------------------------------------+----------+-----+\n",
      "only showing top 20 rows\n",
      "\n"
     ]
    }
   ],
   "source": [
    "predictions_lr = lr_model.transform(test)\n",
    "prob_lr = predictions_lr.select(\"probability\", 'prediction', 'label')\n",
    "prob_lr.show(truncate=False)"
   ]
  },
  {
   "cell_type": "code",
   "execution_count": 60,
   "id": "400188cb",
   "metadata": {},
   "outputs": [
    {
     "name": "stdout",
     "output_type": "stream",
     "text": [
      "Training Accracy: 0.81\n",
      "Training Area under ROC: 0.89\n"
     ]
    }
   ],
   "source": [
    "trainingSummary = lr_model.summary\n",
    "print(f'Training Accracy: {trainingSummary.accuracy:.2f}')\n",
    "print(f'Training Area under ROC: {trainingSummary.areaUnderROC:.2f}')"
   ]
  },
  {
   "cell_type": "code",
   "execution_count": 61,
   "id": "493f911f",
   "metadata": {},
   "outputs": [
    {
     "name": "stdout",
     "output_type": "stream",
     "text": [
      "Test Area Under ROC: 0.882\n"
     ]
    }
   ],
   "source": [
    "from pyspark.ml.evaluation import BinaryClassificationEvaluator\n",
    "evaluator = BinaryClassificationEvaluator()\n",
    "error_lr = evaluator.evaluate(predictions_lr, {evaluator.metricName: \"areaUnderROC\"})\n",
    "print(f'Test Area Under ROC: {error_lr:.3f}')"
   ]
  },
  {
   "cell_type": "code",
   "execution_count": 62,
   "id": "5ec9247b",
   "metadata": {},
   "outputs": [],
   "source": [
    "model_list = []\n",
    "model_error = []\n",
    "model_list.append('Logistic Regression AUC')\n",
    "model_error.append(f'{error_lr:.3f}')"
   ]
  },
  {
   "cell_type": "markdown",
   "id": "78ed1a02",
   "metadata": {},
   "source": [
    "### Random Forest"
   ]
  },
  {
   "cell_type": "code",
   "execution_count": 64,
   "id": "1543e0c1",
   "metadata": {},
   "outputs": [],
   "source": [
    "from pyspark.ml.classification import RandomForestClassifier\n",
    "\n",
    "rf = RandomForestClassifier(featuresCol='features', labelCol='label')\n",
    "rfModel = rf.fit(train)\n",
    "predictions_rf = rfModel.transform(test)"
   ]
  },
  {
   "cell_type": "code",
   "execution_count": 65,
   "id": "16f22273",
   "metadata": {},
   "outputs": [
    {
     "name": "stdout",
     "output_type": "stream",
     "text": [
      "Test Area Under ROC: 0.869\n"
     ]
    }
   ],
   "source": [
    "error_rf = evaluator.evaluate(predictions_rf, {evaluator.metricName: \"areaUnderROC\"})\n",
    "print(f'Test Area Under ROC: {error_rf:.3f}')\n",
    "\n",
    "model_list.append('Random Forest AUC')\n",
    "model_error.append(f'{error_rf:.3f}')"
   ]
  },
  {
   "cell_type": "markdown",
   "id": "61119bd4",
   "metadata": {},
   "source": [
    "### Gradient Boosted Tree Classifier"
   ]
  },
  {
   "cell_type": "code",
   "execution_count": 49,
   "id": "7cab03c9",
   "metadata": {},
   "outputs": [],
   "source": [
    "from pyspark.ml.classification import GBTClassifier\n",
    "\n",
    "gbt = GBTClassifier(maxIter=10, featuresCol='features', labelCol='label')\n",
    "gbtModel = gbt.fit(train)\n",
    "predictions_gbt = gbtModel.transform(test)"
   ]
  },
  {
   "cell_type": "code",
   "execution_count": 69,
   "id": "33d8d3f5",
   "metadata": {},
   "outputs": [
    {
     "name": "stdout",
     "output_type": "stream",
     "text": [
      "Test Area Under ROC: 0.887\n"
     ]
    }
   ],
   "source": [
    "error_gbt = evaluator.evaluate(predictions_gbt, {evaluator.metricName: \"areaUnderROC\"})\n",
    "print(f'Test Area Under ROC: {error_gbt:.3f}')\n",
    "\n",
    "model_list.append('GBT Classifier AUC')\n",
    "model_error.append(f'{error_gbt:.3f}')"
   ]
  },
  {
   "cell_type": "code",
   "execution_count": 70,
   "id": "4cf00db5",
   "metadata": {},
   "outputs": [
    {
     "data": {
      "text/html": [
       "<div>\n",
       "<style scoped>\n",
       "    .dataframe tbody tr th:only-of-type {\n",
       "        vertical-align: middle;\n",
       "    }\n",
       "\n",
       "    .dataframe tbody tr th {\n",
       "        vertical-align: top;\n",
       "    }\n",
       "\n",
       "    .dataframe thead th {\n",
       "        text-align: right;\n",
       "    }\n",
       "</style>\n",
       "<table border=\"1\" class=\"dataframe\">\n",
       "  <thead>\n",
       "    <tr style=\"text-align: right;\">\n",
       "      <th></th>\n",
       "      <th>Model</th>\n",
       "      <th>Error</th>\n",
       "    </tr>\n",
       "  </thead>\n",
       "  <tbody>\n",
       "    <tr>\n",
       "      <th>0</th>\n",
       "      <td>Logistic Regression AUC</td>\n",
       "      <td>0.882</td>\n",
       "    </tr>\n",
       "    <tr>\n",
       "      <th>1</th>\n",
       "      <td>Random Forest AUC</td>\n",
       "      <td>0.869</td>\n",
       "    </tr>\n",
       "    <tr>\n",
       "      <th>2</th>\n",
       "      <td>Random Forest AUC</td>\n",
       "      <td>0.887</td>\n",
       "    </tr>\n",
       "    <tr>\n",
       "      <th>3</th>\n",
       "      <td>GBT Classifier AUC</td>\n",
       "      <td>0.887</td>\n",
       "    </tr>\n",
       "  </tbody>\n",
       "</table>\n",
       "</div>"
      ],
      "text/plain": [
       "                     Model  Error\n",
       "0  Logistic Regression AUC  0.882\n",
       "1        Random Forest AUC  0.869\n",
       "2        Random Forest AUC  0.887\n",
       "3       GBT Classifier AUC  0.887"
      ]
     },
     "execution_count": 70,
     "metadata": {},
     "output_type": "execute_result"
    }
   ],
   "source": [
    "import pandas as pd\n",
    "\n",
    "pd.DataFrame({\"Model\":model_list,\n",
    "             \"Error\": model_error}).head()"
   ]
  },
  {
   "cell_type": "code",
   "execution_count": 71,
   "id": "d7f13747",
   "metadata": {},
   "outputs": [
    {
     "data": {
      "text/html": [
       "<div>\n",
       "<style scoped>\n",
       "    .dataframe tbody tr th:only-of-type {\n",
       "        vertical-align: middle;\n",
       "    }\n",
       "\n",
       "    .dataframe tbody tr th {\n",
       "        vertical-align: top;\n",
       "    }\n",
       "\n",
       "    .dataframe thead th {\n",
       "        text-align: right;\n",
       "    }\n",
       "</style>\n",
       "<table border=\"1\" class=\"dataframe\">\n",
       "  <thead>\n",
       "    <tr style=\"text-align: right;\">\n",
       "      <th></th>\n",
       "      <th>idx</th>\n",
       "      <th>name</th>\n",
       "      <th>score</th>\n",
       "    </tr>\n",
       "  </thead>\n",
       "  <tbody>\n",
       "    <tr>\n",
       "      <th>11</th>\n",
       "      <td>8</td>\n",
       "      <td>marital-status_ohe_Married-civ-spouse</td>\n",
       "      <td>0.340943</td>\n",
       "    </tr>\n",
       "    <tr>\n",
       "      <th>1</th>\n",
       "      <td>83</td>\n",
       "      <td>educational-num</td>\n",
       "      <td>0.155046</td>\n",
       "    </tr>\n",
       "    <tr>\n",
       "      <th>0</th>\n",
       "      <td>82</td>\n",
       "      <td>age</td>\n",
       "      <td>0.127466</td>\n",
       "    </tr>\n",
       "    <tr>\n",
       "      <th>2</th>\n",
       "      <td>84</td>\n",
       "      <td>hours-per-week</td>\n",
       "      <td>0.087934</td>\n",
       "    </tr>\n",
       "    <tr>\n",
       "      <th>23</th>\n",
       "      <td>20</td>\n",
       "      <td>occupation_ohe_Other-service</td>\n",
       "      <td>0.049491</td>\n",
       "    </tr>\n",
       "    <tr>\n",
       "      <th>18</th>\n",
       "      <td>15</td>\n",
       "      <td>occupation_ohe_Exec-managerial</td>\n",
       "      <td>0.041820</td>\n",
       "    </tr>\n",
       "    <tr>\n",
       "      <th>28</th>\n",
       "      <td>25</td>\n",
       "      <td>occupation_ohe_Farming-fishing</td>\n",
       "      <td>0.032425</td>\n",
       "    </tr>\n",
       "    <tr>\n",
       "      <th>4</th>\n",
       "      <td>1</td>\n",
       "      <td>workclass_ohe_Self-emp-not-inc</td>\n",
       "      <td>0.026381</td>\n",
       "    </tr>\n",
       "    <tr>\n",
       "      <th>43</th>\n",
       "      <td>40</td>\n",
       "      <td>gender_ohe_Male</td>\n",
       "      <td>0.020845</td>\n",
       "    </tr>\n",
       "    <tr>\n",
       "      <th>33</th>\n",
       "      <td>30</td>\n",
       "      <td>relationship_ohe_Not-in-family</td>\n",
       "      <td>0.016154</td>\n",
       "    </tr>\n",
       "  </tbody>\n",
       "</table>\n",
       "</div>"
      ],
      "text/plain": [
       "    idx                                   name     score\n",
       "11    8  marital-status_ohe_Married-civ-spouse  0.340943\n",
       "1    83                        educational-num  0.155046\n",
       "0    82                                    age  0.127466\n",
       "2    84                         hours-per-week  0.087934\n",
       "23   20           occupation_ohe_Other-service  0.049491\n",
       "18   15         occupation_ohe_Exec-managerial  0.041820\n",
       "28   25         occupation_ohe_Farming-fishing  0.032425\n",
       "4     1         workclass_ohe_Self-emp-not-inc  0.026381\n",
       "43   40                        gender_ohe_Male  0.020845\n",
       "33   30         relationship_ohe_Not-in-family  0.016154"
      ]
     },
     "execution_count": 71,
     "metadata": {},
     "output_type": "execute_result"
    }
   ],
   "source": [
    "import pandas as pd\n",
    "\n",
    "def ExtractFeatureImp(featureImp, dataset, featuresCol):\n",
    "    list_extract = []\n",
    "    for i in dataset.schema[featuresCol].metadata[\"ml_attr\"][\"attrs\"]:\n",
    "        list_extract = list_extract + dataset.schema[featuresCol].metadata[\"ml_attr\"][\"attrs\"][i]\n",
    "    varlist = pd.DataFrame(list_extract)\n",
    "    varlist['score'] = varlist['idx'].apply(lambda x: featureImp[x])\n",
    "    return (varlist.sort_values('score', ascending=False))\n",
    "\n",
    "ExtractFeatureImp(gbtModel.featureImportances, predictions_gbt, 'features').head(10)"
   ]
  },
  {
   "cell_type": "markdown",
   "id": "d9c51dc2",
   "metadata": {},
   "source": [
    "## Hyper Param Tuning"
   ]
  },
  {
   "cell_type": "code",
   "execution_count": 72,
   "id": "b815a08c",
   "metadata": {},
   "outputs": [],
   "source": [
    "from pyspark.ml.tuning import ParamGridBuilder, CrossValidator\n",
    "\n",
    "paramGrid = (ParamGridBuilder()\n",
    "            .addGrid(gbt.maxDepth, [2,4,6])\n",
    "            .addGrid(gbt.maxBins, [20,60])\n",
    "            .addGrid(gbt.maxIter, [10,20])\n",
    "            .build())\n",
    "\n",
    "cv = CrossValidator(estimator=gbt, estimatorParamMaps = paramGrid, evaluator=evaluator, numFolds=5)\n",
    "cvModel = cv.fit(train)"
   ]
  },
  {
   "cell_type": "code",
   "execution_count": 73,
   "id": "1a13deb3",
   "metadata": {},
   "outputs": [
    {
     "data": {
      "text/plain": [
       "0.8862273588342217"
      ]
     },
     "execution_count": 73,
     "metadata": {},
     "output_type": "execute_result"
    }
   ],
   "source": [
    "pred_gbt_tuned = cvModel.transform(test)\n",
    "evaluator.evaluate(pred_gbt_tuned)"
   ]
  },
  {
   "cell_type": "markdown",
   "id": "fe29aae2",
   "metadata": {},
   "source": [
    "## Scoring"
   ]
  },
  {
   "cell_type": "code",
   "execution_count": 60,
   "id": "79709d45",
   "metadata": {},
   "outputs": [],
   "source": [
    "test_df = spark.read.option(\"header\", True).option(\"inferSchema\", True).option(\"delimiter\",\",\").csv(\"test.csv\")"
   ]
  },
  {
   "cell_type": "code",
   "execution_count": 61,
   "id": "27200115",
   "metadata": {},
   "outputs": [],
   "source": [
    "cols_to_drop = []\n",
    "cols_to_drop.append(\"education\")\n",
    "cols_to_drop.append(\"capital-gain\")\n",
    "cols_to_drop.append(\"capital-loss\")\n",
    "cols_to_drop.append(\"fnlwgt\")"
   ]
  },
  {
   "cell_type": "code",
   "execution_count": 62,
   "id": "20b038ba",
   "metadata": {},
   "outputs": [],
   "source": [
    "cat_cols = [\"workclass\", \"education\", \"marital-status\", \"occupation\", \"relationship\", \"race\", \"gender\", \"native-country\"]"
   ]
  },
  {
   "cell_type": "code",
   "execution_count": 63,
   "id": "86be022b",
   "metadata": {},
   "outputs": [],
   "source": [
    "test_df = test_df.drop(*cols_to_drop)\n",
    "cat_cols.remove(\"education\")"
   ]
  },
  {
   "cell_type": "code",
   "execution_count": 64,
   "id": "561cf149",
   "metadata": {},
   "outputs": [
    {
     "name": "stdout",
     "output_type": "stream",
     "text": [
      "+---+---------+---------------+--------------+----------+------------+----+------+--------------+--------------+\n",
      "|age|workclass|educational-num|marital-status|occupation|relationship|race|gender|hours-per-week|native-country|\n",
      "+---+---------+---------------+--------------+----------+------------+----+------+--------------+--------------+\n",
      "|  0|        0|              0|             0|         0|           0|   0|     0|             0|             0|\n",
      "+---+---------+---------------+--------------+----------+------------+----+------+--------------+--------------+\n",
      "\n"
     ]
    }
   ],
   "source": [
    "test_df.select([f.count(f.when(f.col(c).contains('None') | f.col(c).contains('NULL') | (f.col(c) == \"\") | f.col(c).isNull() | f.isnan(c), c)).alias(c) for c in test_df.columns]).show()"
   ]
  },
  {
   "cell_type": "code",
   "execution_count": 86,
   "id": "0c2e03e7",
   "metadata": {},
   "outputs": [],
   "source": [
    "\n",
    "t_idf = pipe_model.transform(test_df)\n"
   ]
  },
  {
   "cell_type": "code",
   "execution_count": 87,
   "id": "234c3b53",
   "metadata": {},
   "outputs": [],
   "source": [
    "scoring_data = t_idf.select(\"features\")"
   ]
  },
  {
   "cell_type": "code",
   "execution_count": 89,
   "id": "8a67ebb1",
   "metadata": {},
   "outputs": [],
   "source": [
    "scores_gbt = gbtModel.transform(scoring_data)"
   ]
  },
  {
   "cell_type": "code",
   "execution_count": 91,
   "id": "a1163c09",
   "metadata": {},
   "outputs": [
    {
     "name": "stdout",
     "output_type": "stream",
     "text": [
      "+-------------------------------------------------------------------------------+----------+\n",
      "|features                                                                       |prediction|\n",
      "+-------------------------------------------------------------------------------+----------+\n",
      "|(85,[1,8,16,29,35,40,65,82,83,84],[1.0,1.0,1.0,1.0,1.0,1.0,1.0,39.0,9.0,40.0]) |1.0       |\n",
      "|(85,[0,8,16,29,35,40,42,82,83,84],[1.0,1.0,1.0,1.0,1.0,1.0,1.0,32.0,12.0,42.0])|1.0       |\n",
      "|(85,[0,8,16,29,36,40,42,82,83,84],[1.0,1.0,1.0,1.0,1.0,1.0,1.0,47.0,9.0,40.0]) |1.0       |\n",
      "|(85,[0,9,24,31,35,40,42,82,83,84],[1.0,1.0,1.0,1.0,1.0,1.0,1.0,19.0,8.0,20.0]) |0.0       |\n",
      "|(85,[1,8,25,29,35,40,42,82,83,84],[1.0,1.0,1.0,1.0,1.0,1.0,1.0,46.0,9.0,40.0]) |1.0       |\n",
      "|(85,[0,8,17,29,35,40,42,82,83,84],[1.0,1.0,1.0,1.0,1.0,1.0,1.0,45.0,13.0,50.0])|1.0       |\n",
      "|(85,[0,9,18,30,35,40,42,82,83,84],[1.0,1.0,1.0,1.0,1.0,1.0,1.0,34.0,13.0,20.0])|0.0       |\n",
      "|(85,[3,9,18,30,35,41,42,82,83,84],[1.0,1.0,1.0,1.0,1.0,1.0,1.0,38.0,15.0,45.0])|1.0       |\n",
      "|(85,[0,9,15,30,35,41,42,82,83,84],[1.0,1.0,1.0,1.0,1.0,1.0,1.0,40.0,14.0,40.0])|0.0       |\n",
      "|(85,[0,10,15,30,38,41,42,82,83,84],[1.0,1.0,1.0,1.0,1.0,1.0,1.0,47.0,9.0,45.0])|0.0       |\n",
      "|(85,[0,9,17,30,35,41,42,82,83,84],[1.0,1.0,1.0,1.0,1.0,1.0,1.0,35.0,13.0,40.0])|0.0       |\n",
      "|(85,[0,9,19,32,39,41,42,82,83,84],[1.0,1.0,1.0,1.0,1.0,1.0,1.0,23.0,10.0,40.0])|0.0       |\n",
      "|(85,[0,11,21,32,36,41,42,82,83,84],[1.0,1.0,1.0,1.0,1.0,1.0,1.0,53.0,9.0,38.0])|0.0       |\n",
      "|(85,[1,8,18,29,35,40,42,82,83,84],[1.0,1.0,1.0,1.0,1.0,1.0,1.0,58.0,9.0,40.0]) |1.0       |\n",
      "|(85,[5,8,17,29,35,40,42,82,83,84],[1.0,1.0,1.0,1.0,1.0,1.0,1.0,47.0,16.0,40.0])|1.0       |\n",
      "|(85,[4,9,26,30,35,40,42,82,83,84],[1.0,1.0,1.0,1.0,1.0,1.0,1.0,42.0,9.0,40.0]) |0.0       |\n",
      "|(85,[5,10,26,32,36,40,42,82,83,84],[1.0,1.0,1.0,1.0,1.0,1.0,1.0,41.0,9.0,40.0])|0.0       |\n",
      "|(85,[2,8,26,29,35,40,42,82,83,84],[1.0,1.0,1.0,1.0,1.0,1.0,1.0,38.0,10.0,40.0])|1.0       |\n",
      "|(85,[0,8,17,29,35,40,42,82,83,84],[1.0,1.0,1.0,1.0,1.0,1.0,1.0,56.0,14.0,60.0])|1.0       |\n",
      "|(85,[4,8,17,29,35,40,42,82,83,84],[1.0,1.0,1.0,1.0,1.0,1.0,1.0,48.0,14.0,40.0])|1.0       |\n",
      "+-------------------------------------------------------------------------------+----------+\n",
      "only showing top 20 rows\n",
      "\n"
     ]
    }
   ],
   "source": [
    "scores_gbt.select('features','prediction').show(truncate=False)"
   ]
  },
  {
   "cell_type": "code",
   "execution_count": 100,
   "id": "4d40e261",
   "metadata": {},
   "outputs": [],
   "source": [
    "sdf = scores_gbt.select('prediction').toPandas()"
   ]
  },
  {
   "cell_type": "code",
   "execution_count": 101,
   "id": "5efda005",
   "metadata": {},
   "outputs": [],
   "source": [
    "sdf.reset_index(inplace=True)"
   ]
  },
  {
   "cell_type": "code",
   "execution_count": 104,
   "id": "5c44a561",
   "metadata": {},
   "outputs": [],
   "source": [
    "sdf = sdf.astype({\"prediction\":\"int\"})"
   ]
  },
  {
   "cell_type": "code",
   "execution_count": 105,
   "id": "474e73bf",
   "metadata": {},
   "outputs": [],
   "source": [
    "sdf.rename(columns={\"index\":\"id\", \"prediction\":\"outcome\"}, inplace=True)"
   ]
  },
  {
   "cell_type": "code",
   "execution_count": 107,
   "id": "de36e843",
   "metadata": {},
   "outputs": [],
   "source": [
    "sdf.to_csv(\"test_predictions.csv\", index=False)"
   ]
  },
  {
   "cell_type": "code",
   "execution_count": null,
   "id": "bfad89d6",
   "metadata": {},
   "outputs": [],
   "source": []
  }
 ],
 "metadata": {
  "celltoolbar": "Raw Cell Format",
  "kernelspec": {
   "display_name": "Python 3 (ipykernel)",
   "language": "python",
   "name": "python3"
  },
  "language_info": {
   "codemirror_mode": {
    "name": "ipython",
    "version": 3
   },
   "file_extension": ".py",
   "mimetype": "text/x-python",
   "name": "python",
   "nbconvert_exporter": "python",
   "pygments_lexer": "ipython3",
   "version": "3.11.2"
  }
 },
 "nbformat": 4,
 "nbformat_minor": 5
}
